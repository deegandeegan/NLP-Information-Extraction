{
  "nbformat": 4,
  "nbformat_minor": 0,
  "metadata": {
    "colab": {
      "name": "Assignment_2_17232577.ipynb",
      "version": "0.3.2",
      "provenance": [],
      "collapsed_sections": []
    },
    "kernelspec": {
      "display_name": "Python 3",
      "language": "python",
      "name": "python3"
    }
  },
  "cells": [
    {
      "metadata": {
        "id": "sC-LZ20S_WUr",
        "colab_type": "text"
      },
      "cell_type": "markdown",
      "source": [
        "# Information Extraction - Assignment\n",
        "This assignment is based on the Information Extraction lecture and the lab.\n"
      ]
    },
    {
      "metadata": {
        "id": "9xqCFJBv_WUt",
        "colab_type": "code",
        "colab": {
          "resources": {
            "http://localhost:8080/nbextensions/google.colab/files.js": {
              "data": "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",
              "ok": true,
              "headers": [
                [
                  "content-type",
                  "application/javascript"
                ]
              ],
              "status": 200,
              "status_text": ""
            }
          },
          "base_uri": "https://localhost:8080/",
          "height": 296
        },
        "outputId": "20c401c0-decf-41ce-d88c-c2edd7a4844e"
      },
      "cell_type": "code",
      "source": [
        "import nltk\n",
        "nltk.download('punkt')\n",
        "nltk.download('averaged_perceptron_tagger')\n",
        "nltk.download('maxent_ne_chunker')\n",
        "nltk.download('words')\n",
        "import re\n",
        "from statistics import mode\n",
        "from google.colab import files\n",
        "import io\n",
        "\n",
        "\n",
        "uploaded = files.upload()\n",
        "file = io.StringIO(uploaded['footballstxt'].decode('utf-8')).read().split('\\n')\n",
        "# deletes any spaces \n",
        "list_of_doc = [x for x in file if x !='\\r']\n",
        "print(list_of_doc[0])\n"
      ],
      "execution_count": 2,
      "outputs": [
        {
          "output_type": "stream",
          "text": [
            "[nltk_data] Downloading package punkt to /root/nltk_data...\n",
            "[nltk_data]   Package punkt is already up-to-date!\n",
            "[nltk_data] Downloading package averaged_perceptron_tagger to\n",
            "[nltk_data]     /root/nltk_data...\n",
            "[nltk_data]   Package averaged_perceptron_tagger is already up-to-\n",
            "[nltk_data]       date!\n",
            "[nltk_data] Downloading package maxent_ne_chunker to\n",
            "[nltk_data]     /root/nltk_data...\n",
            "[nltk_data]   Package maxent_ne_chunker is already up-to-date!\n",
            "[nltk_data] Downloading package words to /root/nltk_data...\n",
            "[nltk_data]   Package words is already up-to-date!\n"
          ],
          "name": "stdout"
        },
        {
          "output_type": "display_data",
          "data": {
            "text/html": [
              "\n",
              "     <input type=\"file\" id=\"files-00f2db61-20ae-4b07-bf37-56b77ebe1559\" name=\"files[]\" multiple disabled />\n",
              "     <output id=\"result-00f2db61-20ae-4b07-bf37-56b77ebe1559\">\n",
              "      Upload widget is only available when the cell has been executed in the\n",
              "      current browser session. Please rerun this cell to enable.\n",
              "      </output>\n",
              "      <script src=\"/nbextensions/google.colab/files.js\"></script> "
            ],
            "text/plain": [
              "<IPython.core.display.HTML object>"
            ]
          },
          "metadata": {
            "tags": []
          }
        },
        {
          "output_type": "stream",
          "text": [
            "Saving football_players.txt to football_players.txt\n",
            "Cristiano Ronaldo dos Santos Aveiro, ComM, GOIH (born 5 February 1985) is a Portuguese professional footballer who plays for Spanish club Real Madrid and the Portugal national team. He is a forward and serves as captain for Portugal. In 2008, he won his first Ballon d'Or and FIFA World Player of the Year awards. He then won the FIFA Ballon d'Or in 2013 and 2014. In 2015, Ronaldo scored his 500th senior career goal for club and country. Often ranked as the best player in the world, Ronaldo was named the best Portuguese player of all time by the Portuguese Football Federation, during its 100th anniversary celebrations in 2015. He is the only player to win four European Golden Shoe awards. One of the most marketable athletes in sport, in 2016 Forbes named Ronaldo the world's best paid athlete. In June 2016, ESPN ranked him the world's most famous athlete. Ronaldo began his club career playing for Sporting CP, before signing with Manchester United at age 18 in 2003. After winning his first trophy, the FA Cup, during his first season in England, he helped United win three successive Premier League titles, a UEFA Champions League title, and a FIFA Club World Cup. By age 23, he had received Ballon d'Or and FIFA World Player of the Year nominations. He was the subject of the most expensive association football transfer when he moved from Manchester United to Real Madrid in 2009 in a transfer worth €94 million ($132 million). In Spain, he has since won one La Liga title, two Copas del Rey, two Champions League titles, and a Club World Cup. Ronaldo holds the record for most goals scored in a single UEFA Champions League season, having scored 17 goals in the 2013–14 season. In 2014, Ronaldo became the fastest player to score 200 goals in La Liga, which he accomplished in his 178th La Liga game. He is the only player in the history of football to score 50 or more goals in a season on six consecutive occasions. In 2015, Ronaldo became the all-time top goalscorer in the UEFA Champions League, and he also became Real Madrid's all-time leading goalscorer. He is the second highest goalscorer in La Liga history behind Lionel Messi, his perceived career rival. Ronaldo made his international debut for Portugal in August 2003, at the age of 18. He is Portugal's most capped player of all time with over 130 caps, and has participated in seven major tournaments: four UEFA European Championships (2004, 2008, 2012 and 2016) and three FIFA World Cups (2006, 2010 and 2014). He is the first Portuguese player to reach 50 international goals, making him Portugal's all-time top goalscorer. He scored his first international goal in Euro 2004 and helped Portugal reach the final. He took over captaincy in July 2008, and he led Portugal to the semi-finals at Euro 2012, finishing the competition as joint-top scorer. In November 2014, Ronaldo became the all-time top scorer in the UEFA European Championship (including qualifying) with 23 goals. At Euro 2016, he became the most capped player of all-time in the tournament, the first player to score at four consecutive European Championship finals, and also equalled Michel Platini's all-time record for most goals scored in the competition. Ronaldo lifted the trophy after Portugal defeated France in the final, and he received the Silver Boot as one of the second-highest goalscorers of the tournament.\n"
          ],
          "name": "stdout"
        }
      ]
    },
    {
      "metadata": {
        "id": "m0mo13vi_WUx",
        "colab_type": "code",
        "colab": {}
      },
      "cell_type": "code",
      "source": [
        "def get_all_docs():\n",
        "    \n",
        "    list_of_doc = file\n",
        "\n",
        "    l = []\n",
        "    for i in list_of_doc:\n",
        "        if len(i) !=0:\n",
        "            l.append(i)\n",
        "\n",
        "    return l\n",
        "\n",
        "\n",
        "list_of_doc = get_all_docs()"
      ],
      "execution_count": 0,
      "outputs": []
    },
    {
      "metadata": {
        "id": "DCEJrJ-p_WU1",
        "colab_type": "text"
      },
      "cell_type": "markdown",
      "source": [
        "# Task 1 (10 Marks)\n",
        "Write a function that takes each document and performs:\n",
        "1) sentence segmentation 2) tokenization 3) part-of-speech tagging\n",
        "\n",
        "Please keep in mind that the expected output is a list within a list as shown below.\n"
      ]
    },
    {
      "metadata": {
        "id": "U3MCJIcR_WU2",
        "colab_type": "code",
        "colab": {}
      },
      "cell_type": "code",
      "source": [
        "# Process 1 doc\n",
        "def process_single_doc(document):\n",
        "    # Sentence Segmentation\n",
        "    pos_sentences = nltk.sent_tokenize(document)\n",
        "    # Tokenization\n",
        "    pos_sentences = [nltk.word_tokenize(sent) for sent in pos_sentences]\n",
        "    # Part-of-speech tagging\n",
        "    pos_sentences = [nltk.pos_tag(sent) for sent in pos_sentences]\n",
        "\n",
        "    return pos_sentences\n",
        "\n",
        "def process_all_docs(document):\n",
        "    all_docs = []\n",
        "\n",
        "    for document in list_of_doc:\n",
        "        processed_doc = process_single_doc(document)\n",
        "        all_docs.append(processed_doc[0])\n",
        "\n",
        "    return all_docs\n",
        "\n",
        "\n",
        " "
      ],
      "execution_count": 0,
      "outputs": []
    },
    {
      "metadata": {
        "id": "-E04CUNb_WU6",
        "colab_type": "text"
      },
      "cell_type": "markdown",
      "source": [
        "Run the following code to check your result for the first document (Ronaldo)."
      ]
    },
    {
      "metadata": {
        "id": "R30taRgf_WU6",
        "colab_type": "code",
        "colab": {
          "base_uri": "https://localhost:8080/",
          "height": 54
        },
        "outputId": "fc6b5b44-93d5-4947-e46b-0877cabd38c8"
      },
      "cell_type": "code",
      "source": [
        "first_doc = list_of_doc[0]\n",
        "example_sentences = process_single_doc(first_doc)\n",
        "print(example_sentences)"
      ],
      "execution_count": 139,
      "outputs": [
        {
          "output_type": "stream",
          "text": [
            "[[('Cristiano', 'NNP'), ('Ronaldo', 'NNP'), ('dos', 'NN'), ('Santos', 'NNP'), ('Aveiro', 'NNP'), (',', ','), ('ComM', 'NNP'), (',', ','), ('GOIH', 'NNP'), ('(', '('), ('born', 'VBN'), ('5', 'CD'), ('February', 'NNP'), ('1985', 'CD'), (')', ')'), ('is', 'VBZ'), ('a', 'DT'), ('Portuguese', 'JJ'), ('professional', 'JJ'), ('footballer', 'NN'), ('who', 'WP'), ('plays', 'VBZ'), ('for', 'IN'), ('Spanish', 'JJ'), ('club', 'NN'), ('Real', 'NNP'), ('Madrid', 'NNP'), ('and', 'CC'), ('the', 'DT'), ('Portugal', 'NNP'), ('national', 'JJ'), ('team', 'NN'), ('.', '.')], [('He', 'PRP'), ('is', 'VBZ'), ('a', 'DT'), ('forward', 'NN'), ('and', 'CC'), ('serves', 'NNS'), ('as', 'IN'), ('captain', 'NN'), ('for', 'IN'), ('Portugal', 'NNP'), ('.', '.')], [('In', 'IN'), ('2008', 'CD'), (',', ','), ('he', 'PRP'), ('won', 'VBD'), ('his', 'PRP$'), ('first', 'JJ'), ('Ballon', 'NNP'), (\"d'Or\", 'NN'), ('and', 'CC'), ('FIFA', 'NNP'), ('World', 'NNP'), ('Player', 'NNP'), ('of', 'IN'), ('the', 'DT'), ('Year', 'NN'), ('awards', 'NNS'), ('.', '.')], [('He', 'PRP'), ('then', 'RB'), ('won', 'VBD'), ('the', 'DT'), ('FIFA', 'NNP'), ('Ballon', 'NNP'), (\"d'Or\", 'NN'), ('in', 'IN'), ('2013', 'CD'), ('and', 'CC'), ('2014', 'CD'), ('.', '.')], [('In', 'IN'), ('2015', 'CD'), (',', ','), ('Ronaldo', 'NNP'), ('scored', 'VBD'), ('his', 'PRP$'), ('500th', 'JJ'), ('senior', 'JJ'), ('career', 'NN'), ('goal', 'NN'), ('for', 'IN'), ('club', 'NN'), ('and', 'CC'), ('country', 'NN'), ('.', '.')], [('Often', 'RB'), ('ranked', 'VBN'), ('as', 'IN'), ('the', 'DT'), ('best', 'JJS'), ('player', 'NN'), ('in', 'IN'), ('the', 'DT'), ('world', 'NN'), (',', ','), ('Ronaldo', 'NNP'), ('was', 'VBD'), ('named', 'VBN'), ('the', 'DT'), ('best', 'JJS'), ('Portuguese', 'JJ'), ('player', 'NN'), ('of', 'IN'), ('all', 'DT'), ('time', 'NN'), ('by', 'IN'), ('the', 'DT'), ('Portuguese', 'NNP'), ('Football', 'NNP'), ('Federation', 'NNP'), (',', ','), ('during', 'IN'), ('its', 'PRP$'), ('100th', 'JJ'), ('anniversary', 'JJ'), ('celebrations', 'NNS'), ('in', 'IN'), ('2015', 'CD'), ('.', '.')], [('He', 'PRP'), ('is', 'VBZ'), ('the', 'DT'), ('only', 'JJ'), ('player', 'NN'), ('to', 'TO'), ('win', 'VB'), ('four', 'CD'), ('European', 'JJ'), ('Golden', 'NNP'), ('Shoe', 'NNP'), ('awards', 'NNS'), ('.', '.')], [('One', 'CD'), ('of', 'IN'), ('the', 'DT'), ('most', 'RBS'), ('marketable', 'JJ'), ('athletes', 'NNS'), ('in', 'IN'), ('sport', 'NN'), (',', ','), ('in', 'IN'), ('2016', 'CD'), ('Forbes', 'NNP'), ('named', 'VBD'), ('Ronaldo', 'NNP'), ('the', 'DT'), ('world', 'NN'), (\"'s\", 'POS'), ('best', 'JJS'), ('paid', 'VBD'), ('athlete', 'NN'), ('.', '.')], [('In', 'IN'), ('June', 'NNP'), ('2016', 'CD'), (',', ','), ('ESPN', 'NNP'), ('ranked', 'VBD'), ('him', 'PRP'), ('the', 'DT'), ('world', 'NN'), (\"'s\", 'POS'), ('most', 'RBS'), ('famous', 'JJ'), ('athlete', 'NN'), ('.', '.')], [('Ronaldo', 'NNP'), ('began', 'VBD'), ('his', 'PRP$'), ('club', 'NN'), ('career', 'NN'), ('playing', 'NN'), ('for', 'IN'), ('Sporting', 'VBG'), ('CP', 'NNP'), (',', ','), ('before', 'IN'), ('signing', 'VBG'), ('with', 'IN'), ('Manchester', 'NNP'), ('United', 'NNP'), ('at', 'IN'), ('age', 'NN'), ('18', 'CD'), ('in', 'IN'), ('2003', 'CD'), ('.', '.')], [('After', 'IN'), ('winning', 'VBG'), ('his', 'PRP$'), ('first', 'JJ'), ('trophy', 'NN'), (',', ','), ('the', 'DT'), ('FA', 'NNP'), ('Cup', 'NNP'), (',', ','), ('during', 'IN'), ('his', 'PRP$'), ('first', 'JJ'), ('season', 'NN'), ('in', 'IN'), ('England', 'NNP'), (',', ','), ('he', 'PRP'), ('helped', 'VBD'), ('United', 'NNP'), ('win', 'VB'), ('three', 'CD'), ('successive', 'JJ'), ('Premier', 'NNP'), ('League', 'NNP'), ('titles', 'NNS'), (',', ','), ('a', 'DT'), ('UEFA', 'NNP'), ('Champions', 'NNP'), ('League', 'NNP'), ('title', 'NN'), (',', ','), ('and', 'CC'), ('a', 'DT'), ('FIFA', 'NNP'), ('Club', 'NNP'), ('World', 'NNP'), ('Cup', 'NNP'), ('.', '.')], [('By', 'IN'), ('age', 'NN'), ('23', 'CD'), (',', ','), ('he', 'PRP'), ('had', 'VBD'), ('received', 'VBN'), ('Ballon', 'NNP'), (\"d'Or\", 'NN'), ('and', 'CC'), ('FIFA', 'NNP'), ('World', 'NNP'), ('Player', 'NNP'), ('of', 'IN'), ('the', 'DT'), ('Year', 'NNP'), ('nominations', 'NNS'), ('.', '.')], [('He', 'PRP'), ('was', 'VBD'), ('the', 'DT'), ('subject', 'NN'), ('of', 'IN'), ('the', 'DT'), ('most', 'RBS'), ('expensive', 'JJ'), ('association', 'NN'), ('football', 'NN'), ('transfer', 'NN'), ('when', 'WRB'), ('he', 'PRP'), ('moved', 'VBD'), ('from', 'IN'), ('Manchester', 'NNP'), ('United', 'NNP'), ('to', 'TO'), ('Real', 'VB'), ('Madrid', 'NNP'), ('in', 'IN'), ('2009', 'CD'), ('in', 'IN'), ('a', 'DT'), ('transfer', 'NN'), ('worth', 'JJ'), ('€94', 'CD'), ('million', 'CD'), ('(', '('), ('$', '$'), ('132', 'CD'), ('million', 'CD'), (')', ')'), ('.', '.')], [('In', 'IN'), ('Spain', 'NNP'), (',', ','), ('he', 'PRP'), ('has', 'VBZ'), ('since', 'IN'), ('won', 'VBN'), ('one', 'CD'), ('La', 'NNP'), ('Liga', 'NNP'), ('title', 'NN'), (',', ','), ('two', 'CD'), ('Copas', 'NNP'), ('del', 'FW'), ('Rey', 'NNP'), (',', ','), ('two', 'CD'), ('Champions', 'NNP'), ('League', 'NNP'), ('titles', 'NNS'), (',', ','), ('and', 'CC'), ('a', 'DT'), ('Club', 'NNP'), ('World', 'NNP'), ('Cup', 'NNP'), ('.', '.')], [('Ronaldo', 'NNP'), ('holds', 'VBZ'), ('the', 'DT'), ('record', 'NN'), ('for', 'IN'), ('most', 'JJS'), ('goals', 'NNS'), ('scored', 'VBN'), ('in', 'IN'), ('a', 'DT'), ('single', 'JJ'), ('UEFA', 'NNP'), ('Champions', 'NNP'), ('League', 'NNP'), ('season', 'NN'), (',', ','), ('having', 'VBG'), ('scored', 'VBN'), ('17', 'CD'), ('goals', 'NNS'), ('in', 'IN'), ('the', 'DT'), ('2013–14', 'CD'), ('season', 'NN'), ('.', '.')], [('In', 'IN'), ('2014', 'CD'), (',', ','), ('Ronaldo', 'NNP'), ('became', 'VBD'), ('the', 'DT'), ('fastest', 'JJS'), ('player', 'NN'), ('to', 'TO'), ('score', 'VB'), ('200', 'CD'), ('goals', 'NNS'), ('in', 'IN'), ('La', 'NNP'), ('Liga', 'NNP'), (',', ','), ('which', 'WDT'), ('he', 'PRP'), ('accomplished', 'VBD'), ('in', 'IN'), ('his', 'PRP$'), ('178th', 'CD'), ('La', 'NNP'), ('Liga', 'NNP'), ('game', 'NN'), ('.', '.')], [('He', 'PRP'), ('is', 'VBZ'), ('the', 'DT'), ('only', 'JJ'), ('player', 'NN'), ('in', 'IN'), ('the', 'DT'), ('history', 'NN'), ('of', 'IN'), ('football', 'NN'), ('to', 'TO'), ('score', 'VB'), ('50', 'CD'), ('or', 'CC'), ('more', 'JJR'), ('goals', 'NNS'), ('in', 'IN'), ('a', 'DT'), ('season', 'NN'), ('on', 'IN'), ('six', 'CD'), ('consecutive', 'JJ'), ('occasions', 'NNS'), ('.', '.')], [('In', 'IN'), ('2015', 'CD'), (',', ','), ('Ronaldo', 'NNP'), ('became', 'VBD'), ('the', 'DT'), ('all-time', 'JJ'), ('top', 'JJ'), ('goalscorer', 'NN'), ('in', 'IN'), ('the', 'DT'), ('UEFA', 'NNP'), ('Champions', 'NNP'), ('League', 'NNP'), (',', ','), ('and', 'CC'), ('he', 'PRP'), ('also', 'RB'), ('became', 'VBD'), ('Real', 'NNP'), ('Madrid', 'NNP'), (\"'s\", 'POS'), ('all-time', 'JJ'), ('leading', 'JJ'), ('goalscorer', 'NN'), ('.', '.')], [('He', 'PRP'), ('is', 'VBZ'), ('the', 'DT'), ('second', 'JJ'), ('highest', 'JJS'), ('goalscorer', 'NN'), ('in', 'IN'), ('La', 'NNP'), ('Liga', 'NNP'), ('history', 'NN'), ('behind', 'IN'), ('Lionel', 'NNP'), ('Messi', 'NNP'), (',', ','), ('his', 'PRP$'), ('perceived', 'JJ'), ('career', 'NN'), ('rival', 'NN'), ('.', '.')], [('Ronaldo', 'NNP'), ('made', 'VBD'), ('his', 'PRP$'), ('international', 'JJ'), ('debut', 'NN'), ('for', 'IN'), ('Portugal', 'NNP'), ('in', 'IN'), ('August', 'NNP'), ('2003', 'CD'), (',', ','), ('at', 'IN'), ('the', 'DT'), ('age', 'NN'), ('of', 'IN'), ('18', 'CD'), ('.', '.')], [('He', 'PRP'), ('is', 'VBZ'), ('Portugal', 'NNP'), (\"'s\", 'POS'), ('most', 'JJS'), ('capped', 'JJ'), ('player', 'NN'), ('of', 'IN'), ('all', 'DT'), ('time', 'NN'), ('with', 'IN'), ('over', 'IN'), ('130', 'CD'), ('caps', 'NNS'), (',', ','), ('and', 'CC'), ('has', 'VBZ'), ('participated', 'VBN'), ('in', 'IN'), ('seven', 'CD'), ('major', 'JJ'), ('tournaments', 'NNS'), (':', ':'), ('four', 'CD'), ('UEFA', 'IN'), ('European', 'JJ'), ('Championships', 'NNP'), ('(', '('), ('2004', 'CD'), (',', ','), ('2008', 'CD'), (',', ','), ('2012', 'CD'), ('and', 'CC'), ('2016', 'CD'), (')', ')'), ('and', 'CC'), ('three', 'CD'), ('FIFA', 'NNP'), ('World', 'NNP'), ('Cups', 'NNP'), ('(', '('), ('2006', 'CD'), (',', ','), ('2010', 'CD'), ('and', 'CC'), ('2014', 'CD'), (')', ')'), ('.', '.')], [('He', 'PRP'), ('is', 'VBZ'), ('the', 'DT'), ('first', 'JJ'), ('Portuguese', 'NNP'), ('player', 'NN'), ('to', 'TO'), ('reach', 'VB'), ('50', 'CD'), ('international', 'JJ'), ('goals', 'NNS'), (',', ','), ('making', 'VBG'), ('him', 'PRP'), ('Portugal', 'NNP'), (\"'s\", 'POS'), ('all-time', 'JJ'), ('top', 'JJ'), ('goalscorer', 'NN'), ('.', '.')], [('He', 'PRP'), ('scored', 'VBD'), ('his', 'PRP$'), ('first', 'JJ'), ('international', 'JJ'), ('goal', 'NN'), ('in', 'IN'), ('Euro', 'NNP'), ('2004', 'CD'), ('and', 'CC'), ('helped', 'VBD'), ('Portugal', 'NNP'), ('reach', 'VB'), ('the', 'DT'), ('final', 'JJ'), ('.', '.')], [('He', 'PRP'), ('took', 'VBD'), ('over', 'RP'), ('captaincy', 'NN'), ('in', 'IN'), ('July', 'NNP'), ('2008', 'CD'), (',', ','), ('and', 'CC'), ('he', 'PRP'), ('led', 'VBD'), ('Portugal', 'NNP'), ('to', 'TO'), ('the', 'DT'), ('semi-finals', 'NNS'), ('at', 'IN'), ('Euro', 'NNP'), ('2012', 'CD'), (',', ','), ('finishing', 'VBG'), ('the', 'DT'), ('competition', 'NN'), ('as', 'IN'), ('joint-top', 'JJ'), ('scorer', 'NN'), ('.', '.')], [('In', 'IN'), ('November', 'NNP'), ('2014', 'CD'), (',', ','), ('Ronaldo', 'NNP'), ('became', 'VBD'), ('the', 'DT'), ('all-time', 'JJ'), ('top', 'JJ'), ('scorer', 'NN'), ('in', 'IN'), ('the', 'DT'), ('UEFA', 'NNP'), ('European', 'NNP'), ('Championship', 'NNP'), ('(', '('), ('including', 'VBG'), ('qualifying', 'VBG'), (')', ')'), ('with', 'IN'), ('23', 'CD'), ('goals', 'NNS'), ('.', '.')], [('At', 'IN'), ('Euro', 'NNP'), ('2016', 'CD'), (',', ','), ('he', 'PRP'), ('became', 'VBD'), ('the', 'DT'), ('most', 'RBS'), ('capped', 'JJ'), ('player', 'NN'), ('of', 'IN'), ('all-time', 'NN'), ('in', 'IN'), ('the', 'DT'), ('tournament', 'NN'), (',', ','), ('the', 'DT'), ('first', 'JJ'), ('player', 'NN'), ('to', 'TO'), ('score', 'VB'), ('at', 'IN'), ('four', 'CD'), ('consecutive', 'JJ'), ('European', 'JJ'), ('Championship', 'NNP'), ('finals', 'NNS'), (',', ','), ('and', 'CC'), ('also', 'RB'), ('equalled', 'VBD'), ('Michel', 'NNP'), ('Platini', 'NNP'), (\"'s\", 'POS'), ('all-time', 'JJ'), ('record', 'NN'), ('for', 'IN'), ('most', 'JJS'), ('goals', 'NNS'), ('scored', 'VBN'), ('in', 'IN'), ('the', 'DT'), ('competition', 'NN'), ('.', '.')], [('Ronaldo', 'NNP'), ('lifted', 'VBD'), ('the', 'DT'), ('trophy', 'NN'), ('after', 'IN'), ('Portugal', 'NNP'), ('defeated', 'VBD'), ('France', 'NNP'), ('in', 'IN'), ('the', 'DT'), ('final', 'JJ'), (',', ','), ('and', 'CC'), ('he', 'PRP'), ('received', 'VBD'), ('the', 'DT'), ('Silver', 'NNP'), ('Boot', 'NNP'), ('as', 'IN'), ('one', 'CD'), ('of', 'IN'), ('the', 'DT'), ('second-highest', 'JJ'), ('goalscorers', 'NNS'), ('of', 'IN'), ('the', 'DT'), ('tournament', 'NN'), ('.', '.')]]\n"
          ],
          "name": "stdout"
        }
      ]
    },
    {
      "metadata": {
        "id": "OMw70Wm8_WU-",
        "colab_type": "text"
      },
      "cell_type": "markdown",
      "source": [
        "Expected output\n",
        " [...[('He', 'PRP'),\n",
        "  ('is', 'VBZ'),\n",
        "  ('a', 'DT'),\n",
        "  ('forward', 'NN'),\n",
        "  ('and', 'CC'),\n",
        "  ('serves', 'NNS'),\n",
        "  ('as', 'IN'),\n",
        "  ('captain', 'NN'),\n",
        "  ('for', 'IN'),\n",
        "  ('Portugal', 'NNP'),\n",
        "  ('.', '.')], ...]"
      ]
    },
    {
      "metadata": {
        "id": "tYTwrZId_WU_",
        "colab_type": "text"
      },
      "cell_type": "markdown",
      "source": [
        "# Task 2 (20 Marks)\n",
        "Write a function that will take the list of tokens with POS tags for each sentence and returns the named entities (NE). \n",
        "\n",
        "Hint: Use binary=True while calling NE chunk function"
      ]
    },
    {
      "metadata": {
        "id": "5fC0iqJJ_WU_",
        "colab_type": "code",
        "colab": {
          "base_uri": "https://localhost:8080/",
          "height": 153
        },
        "outputId": "6b4845c8-eeef-4901-a366-4dfc8fb63d1c"
      },
      "cell_type": "code",
      "source": [
        "def named_entity_finding(pos_sent):\n",
        "    tree = nltk.ne_chunk(pos_sent, binary=True)\n",
        "    named_entities = []\n",
        "\n",
        "    for subtree in tree.subtrees():\n",
        "        if subtree.label() == 'NE':\n",
        "            entity = \"\"\n",
        "            for leaf in subtree.leaves():\n",
        "                entity = entity + leaf[0] + \" \"\n",
        "            named_entities.append(entity.strip())\n",
        "\n",
        "    return named_entities\n",
        "\n",
        "example_sentences = process_single_doc(list_of_doc[0])\n",
        "named_entity_finding(example_sentences[0])\n"
      ],
      "execution_count": 141,
      "outputs": [
        {
          "output_type": "execute_result",
          "data": {
            "text/plain": [
              "['Cristiano Ronaldo',\n",
              " 'Santos Aveiro',\n",
              " 'ComM',\n",
              " 'GOIH',\n",
              " 'Portuguese',\n",
              " 'Spanish',\n",
              " 'Real Madrid',\n",
              " 'Portugal']"
            ]
          },
          "metadata": {
            "tags": []
          },
          "execution_count": 141
        }
      ]
    },
    {
      "metadata": {
        "id": "fDolbFKE_WVD",
        "colab_type": "text"
      },
      "cell_type": "markdown",
      "source": [
        "Expected output ['Cristiano Ronaldo',\n",
        " 'Santos Aveiro',\n",
        " 'ComM',\n",
        " 'GOIH',\n",
        " 'Portuguese',\n",
        " 'Portuguese',\n",
        " 'Spanish',\n",
        " 'Real Madrid',\n",
        " 'Portugal']"
      ]
    },
    {
      "metadata": {
        "id": "pyEMopOlhxAE",
        "colab_type": "text"
      },
      "cell_type": "markdown",
      "source": [
        ""
      ]
    },
    {
      "metadata": {
        "id": "XHMp7xtK_WVE",
        "colab_type": "text"
      },
      "cell_type": "markdown",
      "source": [
        "# Task 3 (10 Marks)\n",
        "\n",
        "Now use the named_entity_finding() function to extract all NEs for each document.\n",
        "\n",
        "Hint: pos_sents holds the list of lists of tokens with POS tags"
      ]
    },
    {
      "metadata": {
        "id": "TwFlzQx4_WVF",
        "colab_type": "code",
        "colab": {
          "base_uri": "https://localhost:8080/",
          "height": 952
        },
        "outputId": "673eaf44-dbbb-4be8-c6aa-adf688e586ad"
      },
      "cell_type": "code",
      "source": [
        "def NE_flat_list_fn(pos_sents):\n",
        "    # Simple task of flattening a list of lists\n",
        "    NE = [named_entity_finding(pos_sent) for pos_sent in pos_sents]\n",
        "    NE_flat_list = [item for my_sublist in NE for item in my_sublist]\n",
        "    return NE_flat_list\n",
        "\n",
        "example_sentences = process_single_doc(list_of_doc[0])\n",
        "NE_flat_list_fn(example_sentences)\n"
      ],
      "execution_count": 129,
      "outputs": [
        {
          "output_type": "execute_result",
          "data": {
            "text/plain": [
              "['Cristiano Ronaldo',\n",
              " 'Santos Aveiro',\n",
              " 'ComM',\n",
              " 'GOIH',\n",
              " 'Portuguese',\n",
              " 'Spanish',\n",
              " 'Real Madrid',\n",
              " 'Portugal',\n",
              " 'Portugal',\n",
              " 'Ballon',\n",
              " 'FIFA',\n",
              " 'FIFA Ballon',\n",
              " 'Ronaldo',\n",
              " 'Ronaldo',\n",
              " 'Portuguese',\n",
              " 'Portuguese Football Federation',\n",
              " 'European Golden Shoe',\n",
              " 'ESPN',\n",
              " 'Ronaldo',\n",
              " 'Manchester United',\n",
              " 'England',\n",
              " 'United',\n",
              " 'UEFA Champions League',\n",
              " 'FIFA Club',\n",
              " 'Ballon',\n",
              " 'FIFA',\n",
              " 'Manchester United',\n",
              " 'Madrid',\n",
              " 'Spain',\n",
              " 'Ronaldo',\n",
              " 'UEFA Champions League',\n",
              " 'Ronaldo',\n",
              " 'La Liga',\n",
              " 'Ronaldo',\n",
              " 'UEFA Champions League',\n",
              " 'Real Madrid',\n",
              " 'La Liga',\n",
              " 'Lionel Messi',\n",
              " 'Ronaldo',\n",
              " 'Portugal',\n",
              " 'Portugal',\n",
              " 'European',\n",
              " 'FIFA World Cups',\n",
              " 'Portuguese',\n",
              " 'Portugal',\n",
              " 'Portugal',\n",
              " 'Portugal',\n",
              " 'Ronaldo',\n",
              " 'UEFA European',\n",
              " 'European',\n",
              " 'Michel Platini',\n",
              " 'Ronaldo',\n",
              " 'Portugal',\n",
              " 'France',\n",
              " 'Silver Boot']"
            ]
          },
          "metadata": {
            "tags": []
          },
          "execution_count": 129
        }
      ]
    },
    {
      "metadata": {
        "id": "l7-ma9lJ_WVJ",
        "colab_type": "text"
      },
      "cell_type": "markdown",
      "source": [
        "# Task 4 (40 Marks)\n",
        "\n",
        "Write functions to extract the name of the player, country of origin and date of birth as well as the following relations: team(s) of the player and position(s) of the player.\n",
        "\n",
        "Hint: Use the re.compile() function to create the extraction patterns\n",
        "\n",
        "Reference: https://docs.python.org/3/howto/regex.html"
      ]
    },
    {
      "metadata": {
        "id": "tbaFyiah_WVK",
        "colab_type": "code",
        "colab": {
          "base_uri": "https://localhost:8080/",
          "height": 102
        },
        "outputId": "4a29bef9-f386-43cc-93fb-918c57fdeea5"
      },
      "cell_type": "code",
      "source": [
        "def name_of_the_player(doc):\n",
        "    name = []\n",
        "\n",
        "    pos_sents = process_single_doc(doc)\n",
        "    # chunk\n",
        "    tree = nltk.ne_chunk(pos_sents[0])\n",
        "\n",
        "    for subtree in tree.subtrees():\n",
        "        if subtree.label() == \"PERSON\":\n",
        "            entity = \"\"\n",
        "            for leaf in subtree.leaves():\n",
        "                entity = entity + leaf[0] + \" \"\n",
        "            name.append(entity.strip())\n",
        "    return \" \".join(name)\n",
        "\n",
        "\n",
        "print(name_of_the_player(list_of_doc[1]))\n",
        "\n",
        "\n",
        "\n",
        "def date_of_birth(doc):\n",
        "    sentence = nltk.sent_tokenize(doc)[0]\n",
        "    # regex \n",
        "    match = re.compile(r'born\\b\\s*((?:\\S+\\s+){0,3})')\n",
        "    born = match.findall(sentence)[0]\n",
        "    born = re.sub('\\W+', ' ', born)\n",
        "\n",
        "    return born\n",
        "\n",
        "def country_of_origin(doc):\n",
        "    #regex pattern\n",
        "    pattern = 'is\\san?\\s(.*?)\\sprofessional'\n",
        "    return re.findall(pattern, doc)[0]\n",
        "\n",
        "print(country_of_origin(list_of_doc[4]))\n",
        "\n",
        "def salary(doc): #code goes here\n",
        "    pattern = '([+-]?([0-9]*[.])?[0-9]+) million'\n",
        "    max_sal = 0\n",
        "    for sal in re.findall(pattern, doc):\n",
        "        if float(sal[0]) > max_sal:\n",
        "            max_sal = float(sal[0]) * 1000000\n",
        "\n",
        "    return max_sal\n",
        "\n",
        "print(salary(list_of_doc[0]))\n",
        "\n",
        "\n",
        "def team_of_the_player(doc): #code goes here\n",
        "    patterns = [\n",
        "        'for .*? club (.*?) (and|after)',\n",
        "        'captains both (.*?) (and|after)',\n",
        "        'the\\s(.*?)\\snational (team)'\n",
        "    ]\n",
        "    potential_teams = []\n",
        "    for p in patterns:\n",
        "        if re.findall(p, doc, re.IGNORECASE):\n",
        "            for m in re.findall(p, doc, re.IGNORECASE):\n",
        "                potential_teams.append(m)\n",
        "\n",
        "    filtered = []\n",
        "    for t in potential_teams:\n",
        "        if len(t[0]) < 25 and len(t[0]) > 3 and '.' not in t[0]:\n",
        "            filtered.append(t[0])\n",
        "    return list(set(filtered))\n",
        "\n",
        "print(team_of_the_player(list_of_doc[0]))\n",
        "\n",
        "\n",
        "def position_of_the_player(doc): #code goes here\n",
        "    #Was not able to find a regular pattern for position, so instead check all of them\n",
        "    positions = [\n",
        "        \"Goalkeeper\",\n",
        "        \"Centre-back\",\n",
        "        \"Sweeper\",\n",
        "        \"Full-back\",\n",
        "        \"Wing-back\",\n",
        "        \"Forward\",\n",
        "        \"Centre midfield\",\n",
        "        \"Defensive midfield\",\n",
        "        \"Attacking midfield\",\n",
        "        \"Wide midfield\",\n",
        "        \"Centre forward\",\n",
        "        \"Second striker\",\n",
        "        \"Winger\"\n",
        "    ]\n",
        "    player_positions = []\n",
        "    for p in positions:\n",
        "        if re.findall(p, doc, re.IGNORECASE) or re.findall(p, doc, re.IGNORECASE):\n",
        "            player_positions.append(p)\n",
        "\n",
        "    return player_positions\n",
        "\n",
        "  \n",
        "print(position_of_the_player(list_of_doc[0]))"
      ],
      "execution_count": 142,
      "outputs": [
        {
          "output_type": "stream",
          "text": [
            "Lionel Andrés\n",
            "English\n",
            "94000000.0\n",
            "['Real Madrid', 'Portugal']\n",
            "['Forward']\n"
          ],
          "name": "stdout"
        }
      ]
    },
    {
      "metadata": {
        "id": "K-CNrMM5_WVO",
        "colab_type": "text"
      },
      "cell_type": "markdown",
      "source": [
        "Execute the below command to check your fuction\n"
      ]
    },
    {
      "metadata": {
        "id": "jpeKE1u9_WVP",
        "colab_type": "code",
        "colab": {
          "base_uri": "https://localhost:8080/",
          "height": 34
        },
        "outputId": "6ee1bea2-fabf-42b2-bec1-29831fd40588"
      },
      "cell_type": "code",
      "source": [
        "date_of_birth(list_of_doc[2])"
      ],
      "execution_count": 132,
      "outputs": [
        {
          "output_type": "execute_result",
          "data": {
            "text/plain": [
              "'5 February 1992 '"
            ]
          },
          "metadata": {
            "tags": []
          },
          "execution_count": 132
        }
      ]
    },
    {
      "metadata": {
        "id": "7g3p6CcQ_WVS",
        "colab_type": "text"
      },
      "cell_type": "markdown",
      "source": [
        "Expected output '5 February 1992'"
      ]
    },
    {
      "metadata": {
        "id": "sCYflDpp_WVU",
        "colab_type": "text"
      },
      "cell_type": "markdown",
      "source": [
        "# Task 5 (10 Marks)\n",
        "\n",
        "Write a function using the outputs from the previous functions to generate JSON-LD output as follows.\n",
        "\n",
        "Reference: https://json-ld.org/primer/latest/\n",
        "\n",
        "{ \"@id\": \"http://my-soccer-ontology.com/footballer/name_of_the_player\",\n",
        "\n",
        "    \"name\": \"\",\n",
        "    \"born\": \"\",\n",
        "    \"country\": \"\",\n",
        "    \"position\": [\n",
        "        { \"@id\": \"http://my-soccer-ontology.com/position\",\n",
        "            \"type\": \"\"\n",
        "        }\n",
        "     ]   \n",
        "     \"team\": [\n",
        "        { \"@id\": \"http://my-soccer-ontology.com/team\",\n",
        "            \"name\": \"\"\n",
        "        }   \n",
        "     ]\n",
        "}\n"
      ]
    },
    {
      "metadata": {
        "id": "z8HStdlu_WVU",
        "colab_type": "code",
        "colab": {
          "base_uri": "https://localhost:8080/",
          "height": 170
        },
        "outputId": "eabbe029-e892-486b-e3ab-642ffead6f03"
      },
      "cell_type": "code",
      "source": [
        "\n",
        "def json_id(name, born, country, teams, positions):\n",
        "    ret = {}\n",
        "    ret['@id'] = 'http://my-soccer-ontology.com/footballer/{}'.format(name)\n",
        "    ret['name'] = name\n",
        "    ret['country'] = country\n",
        "    ret['born'] = born\n",
        "    ONT_STR = 'http://my-soccer-ontology.com/{}'\n",
        "    ret['team'] = [{'@id': ONT_STR.format(t), 'name': t} for t in teams]\n",
        "    ret['position'] = [{'@id': ONT_STR.format(p), 'name': p} for p in positions]\n",
        "    return ret\n",
        "  \n",
        "\n",
        "  \n",
        "x = list_of_doc[2]\n",
        "json_id(name_of_the_player(x), date_of_birth(x), country_of_origin(x), team_of_the_player(x), position_of_the_player(x))"
      ],
      "execution_count": 133,
      "outputs": [
        {
          "output_type": "execute_result",
          "data": {
            "text/plain": [
              "{'@id': 'http://my-soccer-ontology.com/footballer/Silva Santos Júnior Neymar Neymar Jr.',\n",
              " 'born': '5 February 1992 ',\n",
              " 'country': 'Brazilian',\n",
              " 'name': 'Silva Santos Júnior Neymar Neymar Jr.',\n",
              " 'position': [{'@id': 'http://my-soccer-ontology.com/Forward',\n",
              "   'name': 'Forward'}],\n",
              " 'team': [{'@id': 'http://my-soccer-ontology.com/FC Barcelona',\n",
              "   'name': 'FC Barcelona'},\n",
              "  {'@id': 'http://my-soccer-ontology.com/Brazil', 'name': 'Brazil'}]}"
            ]
          },
          "metadata": {
            "tags": []
          },
          "execution_count": 133
        }
      ]
    },
    {
      "metadata": {
        "id": "i3VtWxBr_WVZ",
        "colab_type": "text"
      },
      "cell_type": "markdown",
      "source": [
        "# Task 6 (10 Marks)\n",
        "Identify one other relation (besides team and player) and write a function to extract this. Also extend the JSON-LD output accordingly."
      ]
    },
    {
      "metadata": {
        "id": "TR0GZrUB_WVa",
        "colab_type": "code",
        "colab": {
          "base_uri": "https://localhost:8080/",
          "height": 170
        },
        "outputId": "e64e0cb1-e315-4343-f435-210c66261b82"
      },
      "cell_type": "code",
      "source": [
        "def json_id(name, born, country, salary, teams, positions):\n",
        "    ret = {}\n",
        "    ret['@id'] = 'http://my-soccer-ontology.com/footballer/{}'.format(name)\n",
        "    ret['name'] = name\n",
        "    ret['country'] = country\n",
        "    ret['born'] = born\n",
        "    ret['salary'] = salary\n",
        "    ONT_STR = 'http://my-soccer-ontology.com/{}'\n",
        "    ret['team'] = [{'@id': ONT_STR.format(t), 'name': t} for t in teams]\n",
        "    ret['position'] = [{'@id': ONT_STR.format(p), 'name': p} for p in positions]\n",
        "    return ret\n",
        "  \n",
        "\n",
        "  \n",
        "x = list_of_doc[8]\n",
        "json_id(name_of_the_player(x), date_of_birth(x), country_of_origin(x), salary(x), team_of_the_player(x), position_of_the_player(x))"
      ],
      "execution_count": 138,
      "outputs": [
        {
          "output_type": "execute_result",
          "data": {
            "text/plain": [
              "{'@id': 'http://my-soccer-ontology.com/footballer/Gareth Frank Bale',\n",
              " 'born': '16 July 1989 ',\n",
              " 'country': 'Welsh',\n",
              " 'name': 'Gareth Frank Bale',\n",
              " 'position': [{'@id': 'http://my-soccer-ontology.com/Winger',\n",
              "   'name': 'Winger'}],\n",
              " 'salary': 7000000.0,\n",
              " 'team': [{'@id': 'http://my-soccer-ontology.com/Wales', 'name': 'Wales'},\n",
              "  {'@id': 'http://my-soccer-ontology.com/Real Madrid', 'name': 'Real Madrid'}]}"
            ]
          },
          "metadata": {
            "tags": []
          },
          "execution_count": 138
        }
      ]
    }
  ]
}